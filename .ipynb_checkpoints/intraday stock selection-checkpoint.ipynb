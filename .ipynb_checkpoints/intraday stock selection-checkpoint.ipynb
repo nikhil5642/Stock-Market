{
 "cells": [
  {
   "cell_type": "code",
   "execution_count": 1,
   "metadata": {},
   "outputs": [],
   "source": [
    "from datetime import datetime, timedelta\n",
    "import requests \n",
    "import pandas as pd\n",
    "import numpy as np\n",
    "import sys\n",
    "\n",
    "from scripts.Scrapper import NIFTY50"
   ]
  },
  {
   "cell_type": "code",
   "execution_count": 2,
   "metadata": {},
   "outputs": [
    {
     "data": {
      "text/plain": [
       "'19092019'"
      ]
     },
     "execution_count": 2,
     "metadata": {},
     "output_type": "execute_result"
    }
   ],
   "source": [
    "today=datetime.now()\n",
    "if(today.isoweekday()!=1):\n",
    "    date=datetime.strftime( today- timedelta(1), '%d%m%Y')\n",
    "else:\n",
    "    date=datetime.strftime( today- timedelta(3), '%d%m%Y')\n",
    "date"
   ]
  },
  {
   "cell_type": "markdown",
   "metadata": {},
   "source": [
    "## Download Volatility File"
   ]
  },
  {
   "cell_type": "code",
   "execution_count": 3,
   "metadata": {},
   "outputs": [],
   "source": [
    "nifty50=NIFTY50()"
   ]
  },
  {
   "cell_type": "code",
   "execution_count": 4,
   "metadata": {
    "scrolled": true
   },
   "outputs": [
    {
     "name": "stdout",
     "output_type": "stream",
     "text": [
      "Downloading volatility File for 19092019\n"
     ]
    }
   ],
   "source": [
    "print(\"Downloading volatility File for \"+date)\n",
    "r=requests.get(\"http://nseindia.com/archives/nsccl/volt/CMVOLT_\"+date+\".CSV\", stream = True) \n",
    "with open(\"./data/yesterday.csv\",\"wb\") as file: \n",
    "    for chunk in r.iter_content(chunk_size=1024):\n",
    "         if chunk: \n",
    "            file.write(chunk)"
   ]
  },
  {
   "cell_type": "code",
   "execution_count": 5,
   "metadata": {},
   "outputs": [],
   "source": [
    "# print(\"Downloading Nifty50 list\")\n",
    "# r=requests.get(\"https://www.nseindia.com/content/indices/ind_nifty50list.csv\", stream = True) \n",
    "# with open(\"data/nifty50.csv\",\"wb\") as file: \n",
    "#     for chunk in r.iter_content(chunk_size=1024):\n",
    "#          if chunk: \n",
    "#             file.write(chunk) "
   ]
  },
  {
   "cell_type": "code",
   "execution_count": 6,
   "metadata": {},
   "outputs": [],
   "source": [
    "def strtofloat(x):\n",
    "    if(x==\"-\"):\n",
    "        return None\n",
    "    s=x.split(\"-\")\n",
    "    #print(s)\n",
    "    if(len(s)>1):\n",
    "        return round(float(s[1])*(-100),2)\n",
    "    else:\n",
    "        return round(float(s[0])*(100),2)\n"
   ]
  },
  {
   "cell_type": "code",
   "execution_count": 8,
   "metadata": {
    "scrolled": true
   },
   "outputs": [
    {
     "ename": "AttributeError",
     "evalue": "'NIFTY50' object has no attribute 'nifty50check'",
     "output_type": "error",
     "traceback": [
      "\u001b[0;31m----------------------------------------------------------------------\u001b[0m",
      "\u001b[0;31mAttributeError\u001b[0m                       Traceback (most recent call last)",
      "\u001b[0;32m<ipython-input-8-2ac44ad98ca7>\u001b[0m in \u001b[0;36m<module>\u001b[0;34m\u001b[0m\n\u001b[1;32m      9\u001b[0m \u001b[0myesterday\u001b[0m\u001b[0;34m[\u001b[0m\u001b[0;34m'Daily%'\u001b[0m\u001b[0;34m]\u001b[0m\u001b[0;34m=\u001b[0m\u001b[0myesterday\u001b[0m\u001b[0;34m[\u001b[0m\u001b[0;34m'Daily%'\u001b[0m\u001b[0;34m]\u001b[0m\u001b[0;34m.\u001b[0m\u001b[0mapply\u001b[0m\u001b[0;34m(\u001b[0m\u001b[0;32mlambda\u001b[0m \u001b[0mx\u001b[0m\u001b[0;34m:\u001b[0m \u001b[0mstrtofloat\u001b[0m\u001b[0;34m(\u001b[0m\u001b[0mx\u001b[0m\u001b[0;34m)\u001b[0m\u001b[0;34m)\u001b[0m\u001b[0;34m\u001b[0m\u001b[0;34m\u001b[0m\u001b[0m\n\u001b[1;32m     10\u001b[0m \u001b[0myesterday\u001b[0m\u001b[0;34m[\u001b[0m\u001b[0;34m'Yearly%'\u001b[0m\u001b[0;34m]\u001b[0m\u001b[0;34m=\u001b[0m\u001b[0myesterday\u001b[0m\u001b[0;34m[\u001b[0m\u001b[0;34m'Yearly%'\u001b[0m\u001b[0;34m]\u001b[0m\u001b[0;34m.\u001b[0m\u001b[0mapply\u001b[0m\u001b[0;34m(\u001b[0m\u001b[0;32mlambda\u001b[0m \u001b[0mx\u001b[0m\u001b[0;34m:\u001b[0m \u001b[0mstrtofloat\u001b[0m\u001b[0;34m(\u001b[0m\u001b[0mx\u001b[0m\u001b[0;34m)\u001b[0m\u001b[0;34m)\u001b[0m\u001b[0;34m\u001b[0m\u001b[0;34m\u001b[0m\u001b[0m\n\u001b[0;32m---> 11\u001b[0;31m \u001b[0myesterday\u001b[0m\u001b[0;34m=\u001b[0m\u001b[0myesterday\u001b[0m\u001b[0;34m.\u001b[0m\u001b[0mloc\u001b[0m\u001b[0;34m[\u001b[0m\u001b[0myesterday\u001b[0m\u001b[0;34m.\u001b[0m\u001b[0mSymbol\u001b[0m\u001b[0;34m.\u001b[0m\u001b[0mapply\u001b[0m\u001b[0;34m(\u001b[0m\u001b[0mnifty50\u001b[0m\u001b[0;34m.\u001b[0m\u001b[0mnifty50check\u001b[0m\u001b[0;34m(\u001b[0m\u001b[0;34m)\u001b[0m\u001b[0;34m)\u001b[0m\u001b[0;34m]\u001b[0m\u001b[0;34m\u001b[0m\u001b[0;34m\u001b[0m\u001b[0m\n\u001b[0m\u001b[1;32m     12\u001b[0m \u001b[0myesterday\u001b[0m\u001b[0;34m.\u001b[0m\u001b[0msort_values\u001b[0m\u001b[0;34m(\u001b[0m\u001b[0;34m[\u001b[0m\u001b[0;34m\"Daily%\"\u001b[0m\u001b[0;34m,\u001b[0m\u001b[0;34m\"Yearly%\"\u001b[0m\u001b[0;34m]\u001b[0m\u001b[0;34m,\u001b[0m \u001b[0maxis\u001b[0m \u001b[0;34m=\u001b[0m \u001b[0;36m0\u001b[0m\u001b[0;34m,\u001b[0m \u001b[0mascending\u001b[0m \u001b[0;34m=\u001b[0m \u001b[0;32mFalse\u001b[0m\u001b[0;34m,\u001b[0m\u001b[0minplace\u001b[0m \u001b[0;34m=\u001b[0m \u001b[0;32mTrue\u001b[0m\u001b[0;34m,\u001b[0m \u001b[0mna_position\u001b[0m \u001b[0;34m=\u001b[0m\u001b[0;34m'last'\u001b[0m\u001b[0;34m)\u001b[0m\u001b[0;34m\u001b[0m\u001b[0;34m\u001b[0m\u001b[0m\n\u001b[1;32m     13\u001b[0m \u001b[0myesterday\u001b[0m\u001b[0;34m=\u001b[0m\u001b[0myesterday\u001b[0m\u001b[0;34m.\u001b[0m\u001b[0mreset_index\u001b[0m\u001b[0;34m(\u001b[0m\u001b[0mdrop\u001b[0m\u001b[0;34m=\u001b[0m\u001b[0;32mTrue\u001b[0m\u001b[0;34m)\u001b[0m\u001b[0;34m\u001b[0m\u001b[0;34m\u001b[0m\u001b[0m\n",
      "\u001b[0;31mAttributeError\u001b[0m: 'NIFTY50' object has no attribute 'nifty50check'"
     ]
    }
   ],
   "source": [
    "yesterday=pd.read_csv(\"data/yesterday.csv\")\n",
    "yesterday=yesterday.drop([\"Date\",\n",
    "                          \"Underlying Close Price (A)\",\n",
    "                          \"Underlying Previous Day Close Price (B)\",\n",
    "                          \"Underlying Log Returns (C) = LN(A/B)\",\n",
    "                          \"Previous Day Underlying Volatility (D)\"]\n",
    "                         ,axis=1)\n",
    "yesterday.columns=[\"Symbol\",\"Daily%\",\"Yearly%\"]\n",
    "yesterday['Daily%']=yesterday['Daily%'].apply(lambda x: strtofloat(x))\n",
    "yesterday['Yearly%']=yesterday['Yearly%'].apply(lambda x: strtofloat(x))\n",
    "yesterday=yesterday.loc[yesterday.Symbol.apply(lambda x: nifty50.nifty50check(x))]\n",
    "yesterday.sort_values([\"Daily%\",\"Yearly%\"], axis = 0, ascending = False,inplace = True, na_position ='last')\n",
    "yesterday=yesterday.reset_index(drop=True)\n",
    "\n",
    "yesterday#yesterday[yesterday['Daily%']>=2]"
   ]
  },
  {
   "cell_type": "code",
   "execution_count": null,
   "metadata": {
    "scrolled": true
   },
   "outputs": [],
   "source": [
    "final_data=pd.merge(yesterday,nifty50.get_nifty50table())"
   ]
  },
  {
   "cell_type": "code",
   "execution_count": null,
   "metadata": {},
   "outputs": [],
   "source": [
    "balance=int(input(\"Enter current balance in account:\"))"
   ]
  },
  {
   "cell_type": "code",
   "execution_count": null,
   "metadata": {
    "scrolled": true
   },
   "outputs": [],
   "source": [
    "final_data[\"MIS Max\"]=final_data.apply(lambda x: balance*x[\"Margin\"]//x[\"LTP\"],axis=1)\n",
    "final_data[\"CNC Max\"]=final_data.apply(lambda x: balance//x[\"LTP\"],axis=1)\n",
    "print(final_data[final_data[\"Daily%\"]>2])"
   ]
  },
  {
   "cell_type": "code",
   "execution_count": null,
   "metadata": {},
   "outputs": [],
   "source": []
  },
  {
   "cell_type": "code",
   "execution_count": null,
   "metadata": {},
   "outputs": [],
   "source": []
  }
 ],
 "metadata": {
  "kernelspec": {
   "display_name": "Python 3",
   "language": "python",
   "name": "python3"
  },
  "language_info": {
   "codemirror_mode": {
    "name": "ipython",
    "version": 3
   },
   "file_extension": ".py",
   "mimetype": "text/x-python",
   "name": "python",
   "nbconvert_exporter": "python",
   "pygments_lexer": "ipython3",
   "version": "3.6.8"
  }
 },
 "nbformat": 4,
 "nbformat_minor": 2
}
